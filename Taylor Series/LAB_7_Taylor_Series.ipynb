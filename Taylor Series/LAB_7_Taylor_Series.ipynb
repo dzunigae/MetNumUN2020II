{
  "nbformat": 4,
  "nbformat_minor": 0,
  "metadata": {
    "colab": {
      "name": "LAB_7_Taylor_Series.ipynb",
      "provenance": [],
      "collapsed_sections": [
        "s4L5gn6tzhZo",
        "Xh-40kSzbASM",
        "M2bMdfHEX508",
        "h9Uq5qg4kh9D",
        "y34zfaGbtcSJ",
        "tDye9CTN26CH",
        "tgpj2cNHCyxo",
        "9DRUDTsWi8yX",
        "vjrDv_FLp-3D",
        "xYBOABJ1uCcX",
        "kYJi8X-jwdS2",
        "1AFd5MyozUtF",
        "xdBWIMdcTnXr",
        "WJ6kCKreU2IN",
        "Vu9C4FCWWr7c"
      ]
    },
    "kernelspec": {
      "name": "python3",
      "display_name": "Python 3"
    }
  },
  "cells": [
    {
      "cell_type": "markdown",
      "metadata": {
        "id": "s4L5gn6tzhZo"
      },
      "source": [
        "# **Taylor Series in Python**"
      ]
    },
    {
      "cell_type": "markdown",
      "metadata": {
        "id": "Xh-40kSzbASM"
      },
      "source": [
        "## **Taylor Series in Python**"
      ]
    },
    {
      "cell_type": "markdown",
      "metadata": {
        "id": "M2bMdfHEX508"
      },
      "source": [
        "### **e^x**"
      ]
    },
    {
      "cell_type": "markdown",
      "metadata": {
        "id": "rD6iFGRpYRbl"
      },
      "source": [
        "**Code the Taylor Series by writing out each term individually**"
      ]
    },
    {
      "cell_type": "code",
      "metadata": {
        "id": "IC9XvmzOYVCA",
        "outputId": "dce4617b-abf3-449d-9b0b-e8ccdb3b6244",
        "colab": {
          "base_uri": "https://localhost:8080/"
        }
      },
      "source": [
        "import math\n",
        "\n",
        "x = 2\n",
        "e_to_2 = x**0/math.factorial(0) + x**1/math.factorial(1) + x**2/math.factorial(2) + x**3/math.factorial(3) + x**4/math.factorial(4)\n",
        "print(e_to_2)"
      ],
      "execution_count": null,
      "outputs": [
        {
          "output_type": "stream",
          "text": [
            "7.0\n"
          ],
          "name": "stdout"
        }
      ]
    },
    {
      "cell_type": "code",
      "metadata": {
        "id": "Du50o8S6ZD5z",
        "outputId": "f4fcdc97-760b-478b-d251-5297c20052e9",
        "colab": {
          "base_uri": "https://localhost:8080/"
        }
      },
      "source": [
        "print(math.exp(2))"
      ],
      "execution_count": null,
      "outputs": [
        {
          "output_type": "stream",
          "text": [
            "7.38905609893065\n"
          ],
          "name": "stdout"
        }
      ]
    },
    {
      "cell_type": "markdown",
      "metadata": {
        "id": "e5cKzpHVZLqf"
      },
      "source": [
        "**Use a for loop to calculate a Taylor Series**"
      ]
    },
    {
      "cell_type": "code",
      "metadata": {
        "id": "8sxPK0zYZOau",
        "outputId": "b1df0503-9211-4f85-971f-04ea4b820bc2",
        "colab": {
          "base_uri": "https://localhost:8080/"
        }
      },
      "source": [
        "import math\n",
        "\n",
        "x = 2\n",
        "e_to_2 = 0\n",
        "for i in range(10):\n",
        "    e_to_2 += x**i/math.factorial(i)\n",
        "    \n",
        "print(e_to_2)"
      ],
      "execution_count": null,
      "outputs": [
        {
          "output_type": "stream",
          "text": [
            "7.3887125220458545\n"
          ],
          "name": "stdout"
        }
      ]
    },
    {
      "cell_type": "code",
      "metadata": {
        "id": "YrjKZw1XZrQu",
        "outputId": "b7f42d29-91be-4d96-bfab-744ef3efaa24",
        "colab": {
          "base_uri": "https://localhost:8080/"
        }
      },
      "source": [
        "print(math.exp(2))"
      ],
      "execution_count": null,
      "outputs": [
        {
          "output_type": "stream",
          "text": [
            "7.38905609893065\n"
          ],
          "name": "stdout"
        }
      ]
    },
    {
      "cell_type": "markdown",
      "metadata": {
        "id": "qwuBHX28ZvbX"
      },
      "source": [
        "**Refactor the for loop into a function**"
      ]
    },
    {
      "cell_type": "code",
      "metadata": {
        "id": "ffSGT-y7Zzxw"
      },
      "source": [
        "import math\n",
        "\n",
        "def func_e_to_2(n):\n",
        "    x = 2\n",
        "    e_to_2 = 0\n",
        "    for i in range(n):\n",
        "        e_to_2 += x**i/math.factorial(i)\n",
        "    \n",
        "    return e_to_2"
      ],
      "execution_count": null,
      "outputs": []
    },
    {
      "cell_type": "code",
      "metadata": {
        "id": "mBHfQZQuaC1O",
        "outputId": "5a9df929-850b-408a-9a55-75298442d940",
        "colab": {
          "base_uri": "https://localhost:8080/"
        }
      },
      "source": [
        "out = func_e_to_2(10)\n",
        "print(out)"
      ],
      "execution_count": null,
      "outputs": [
        {
          "output_type": "stream",
          "text": [
            "7.3887125220458545\n"
          ],
          "name": "stdout"
        }
      ]
    },
    {
      "cell_type": "code",
      "metadata": {
        "id": "n5drIWhKaNyr"
      },
      "source": [
        "import math\n",
        "\n",
        "def func_e(x, n):\n",
        "    e_approx = 0\n",
        "    for i in range(n):\n",
        "        e_approx += x**i/math.factorial(i)\n",
        "    \n",
        "    return e_approx"
      ],
      "execution_count": null,
      "outputs": []
    },
    {
      "cell_type": "code",
      "metadata": {
        "id": "KUoxnOmnaYh2",
        "outputId": "3c17d03b-d800-4ecc-bdb9-3f7d69365dea",
        "colab": {
          "base_uri": "https://localhost:8080/"
        }
      },
      "source": [
        "out = func_e(2,10)\n",
        "print(out)"
      ],
      "execution_count": null,
      "outputs": [
        {
          "output_type": "stream",
          "text": [
            "7.3887125220458545\n"
          ],
          "name": "stdout"
        }
      ]
    },
    {
      "cell_type": "markdown",
      "metadata": {
        "id": "XT_xYYWhbb5m"
      },
      "source": [
        "**Use a for loop to calculate the difference between the Taylor Series expansion and Python's exp() function**"
      ]
    },
    {
      "cell_type": "code",
      "metadata": {
        "id": "5gOImIQHbeE2",
        "outputId": "8faf0a36-733f-4ac3-dce7-e957b352fc99",
        "colab": {
          "base_uri": "https://localhost:8080/"
        }
      },
      "source": [
        "import math\n",
        "\n",
        "x = 2\n",
        "for i in range(1,11):\n",
        "    e_approx = func_e(x,i)\n",
        "    e_exp = math.exp(x)\n",
        "    e_error = abs(e_approx - e_exp)\n",
        "    print(f'{i} terms: Taylor Series approx= {e_approx}, exp calc= {e_exp}, error = {e_error}')"
      ],
      "execution_count": null,
      "outputs": [
        {
          "output_type": "stream",
          "text": [
            "1 terms: Taylor Series approx= 1.0, exp calc= 7.38905609893065, error = 6.38905609893065\n",
            "2 terms: Taylor Series approx= 3.0, exp calc= 7.38905609893065, error = 4.38905609893065\n",
            "3 terms: Taylor Series approx= 5.0, exp calc= 7.38905609893065, error = 2.3890560989306504\n",
            "4 terms: Taylor Series approx= 6.333333333333333, exp calc= 7.38905609893065, error = 1.0557227655973174\n",
            "5 terms: Taylor Series approx= 7.0, exp calc= 7.38905609893065, error = 0.3890560989306504\n",
            "6 terms: Taylor Series approx= 7.266666666666667, exp calc= 7.38905609893065, error = 0.1223894322639838\n",
            "7 terms: Taylor Series approx= 7.355555555555555, exp calc= 7.38905609893065, error = 0.033500543375095226\n",
            "8 terms: Taylor Series approx= 7.3809523809523805, exp calc= 7.38905609893065, error = 0.00810371797826992\n",
            "9 terms: Taylor Series approx= 7.387301587301587, exp calc= 7.38905609893065, error = 0.0017545116290635931\n",
            "10 terms: Taylor Series approx= 7.3887125220458545, exp calc= 7.38905609893065, error = 0.0003435768847959153\n"
          ],
          "name": "stdout"
        }
      ]
    },
    {
      "cell_type": "markdown",
      "metadata": {
        "id": "Td1EFVC9cIFj"
      },
      "source": [
        "**Use a break statement to exit a for loop early**"
      ]
    },
    {
      "cell_type": "code",
      "metadata": {
        "id": "WBLJJEvicMFR",
        "outputId": "e0bcd2ae-2def-4705-ed76-ddb79fa8313d",
        "colab": {
          "base_uri": "https://localhost:8080/"
        }
      },
      "source": [
        "import math\n",
        "\n",
        "x = 5\n",
        "for i in range(1,20):\n",
        "    e_approx = func_e(x,i)\n",
        "    e_exp = math.exp(x)\n",
        "    e_error = abs(e_approx - e_exp)\n",
        "    if e_error < 1:\n",
        "        break\n",
        "        \n",
        "print(f'{i} terms: Taylor Series approx= {e_approx}, exp calc= {e_exp}, error = {e_error}')"
      ],
      "execution_count": null,
      "outputs": [
        {
          "output_type": "stream",
          "text": [
            "12 terms: Taylor Series approx= 147.60384850489015, exp calc= 148.4131591025766, error = 0.8093105976864479\n"
          ],
          "name": "stdout"
        }
      ]
    },
    {
      "cell_type": "markdown",
      "metadata": {
        "id": "-0F8s6Orem4U"
      },
      "source": [
        "**Build a plot to compare the Taylor Series approximation to Python's e^x function**"
      ]
    },
    {
      "cell_type": "code",
      "metadata": {
        "id": "2FpZtaj1esxB",
        "outputId": "a2c6d5f3-1fe3-48eb-9524-4af987fbe941",
        "colab": {
          "base_uri": "https://localhost:8080/",
          "height": 269
        }
      },
      "source": [
        "import math\n",
        "import numpy as np\n",
        "import matplotlib.pyplot as plt\n",
        "%matplotlib inline\n",
        "\n",
        "angles = np.arange(0,12,0.1)\n",
        "for_system = np.exp(angles)\n",
        "for_taylor = [func_e(angle,3) for angle in angles]\n",
        "\n",
        "fig, ax = plt.subplots()\n",
        "ax.plot(angles,for_system)\n",
        "ax.plot(angles,for_taylor)\n",
        "ax.set_ylim([0,10])\n",
        "ax.legend(['e^x function','Taylor Series - 3 terms'])\n",
        "\n",
        "plt.show()"
      ],
      "execution_count": null,
      "outputs": [
        {
          "output_type": "display_data",
          "data": {
            "image/png": "[encoded data removed]",
            "text/plain": [
              "<Figure size 432x288 with 1 Axes>"
            ]
          },
          "metadata": {
            "tags": [],
            "needs_background": "light"
          }
        }
      ]
    },
    {
      "cell_type": "code",
      "metadata": {
        "id": "OuNAnj9FiVNN",
        "outputId": "9e531173-c00f-4530-b534-6e645159a97d",
        "colab": {
          "base_uri": "https://localhost:8080/",
          "height": 269
        }
      },
      "source": [
        "import math\n",
        "import numpy as np\n",
        "import matplotlib.pyplot as plt\n",
        "%matplotlib inline\n",
        "\n",
        "angles = np.arange(0,12,0.1)\n",
        "for_system = np.exp(angles)\n",
        "\n",
        "fig, ax = plt.subplots()\n",
        "ax.plot(angles,for_system)\n",
        "\n",
        "# add lines for between 1 and 6 terms in the Taylor Series\n",
        "for i in range(1,6):\n",
        "    for_taylor = [func_e(angle,3) for angle in angles]\n",
        "    ax.plot(angles,for_taylor)\n",
        "\n",
        "ax.set_ylim([-1,20])\n",
        "\n",
        "# set up legend\n",
        "legend_lst = ['e^x function']\n",
        "for i in range(1,6):\n",
        "    legend_lst.append(f'Taylor Series - {i} terms')\n",
        "ax.legend(legend_lst, loc=3)\n",
        "\n",
        "plt.show()"
      ],
      "execution_count": null,
      "outputs": [
        {
          "output_type": "display_data",
          "data": {
            "image/png": "[encoded data removed]",
            "text/plain": [
              "<Figure size 432x288 with 1 Axes>"
            ]
          },
          "metadata": {
            "tags": [],
            "needs_background": "light"
          }
        }
      ]
    },
    {
      "cell_type": "markdown",
      "metadata": {
        "id": "h9Uq5qg4kh9D"
      },
      "source": [
        "### **sin(x)**"
      ]
    },
    {
      "cell_type": "markdown",
      "metadata": {
        "id": "_3GZJxWyk0zA"
      },
      "source": [
        "**Code the Taylor Series by writing out each term individually**"
      ]
    },
    {
      "cell_type": "code",
      "metadata": {
        "id": "QirkN1sYkx9r",
        "outputId": "37a186d3-5d07-49c9-f194-2ed6ff60dccd",
        "colab": {
          "base_uri": "https://localhost:8080/"
        }
      },
      "source": [
        "import math\n",
        "\n",
        "x = 2\n",
        "sin2 = x**1/math.factorial(1) - x**3/math.factorial(3) + x**5/math.factorial(5) - x**7/math.factorial(7) + x**9/math.factorial(9)\n",
        "print(e_to_2)"
      ],
      "execution_count": null,
      "outputs": [
        {
          "output_type": "stream",
          "text": [
            "0.909347442680776\n"
          ],
          "name": "stdout"
        }
      ]
    },
    {
      "cell_type": "code",
      "metadata": {
        "id": "4jV6Kj7YlhEX",
        "outputId": "37fe43cd-ccd8-4faa-d182-16603f674dc5",
        "colab": {
          "base_uri": "https://localhost:8080/"
        }
      },
      "source": [
        "\n",
        "print(math.sin(2))"
      ],
      "execution_count": null,
      "outputs": [
        {
          "output_type": "stream",
          "text": [
            "0.9092974268256817\n"
          ],
          "name": "stdout"
        }
      ]
    },
    {
      "cell_type": "markdown",
      "metadata": {
        "id": "Crw4UIC-locT"
      },
      "source": [
        "**Use a for loop to calculate a Taylor Series**"
      ]
    },
    {
      "cell_type": "code",
      "metadata": {
        "id": "0wrbjngPlr-Z",
        "outputId": "eca4a442-9d15-418d-ce5b-8c8c84113442",
        "colab": {
          "base_uri": "https://localhost:8080/"
        }
      },
      "source": [
        "import math\n",
        "\n",
        "x = 2\n",
        "sin2 = 0\n",
        "for i in range(10):\n",
        "    sin2 += ((-1)**i)*(x**((i*2)+1)/math.factorial((i*2)+1))\n",
        "    \n",
        "print(sin2)"
      ],
      "execution_count": null,
      "outputs": [
        {
          "output_type": "stream",
          "text": [
            "0.909297426825641\n"
          ],
          "name": "stdout"
        }
      ]
    },
    {
      "cell_type": "code",
      "metadata": {
        "id": "bXJ7Rm9rnXhL",
        "outputId": "8456b8c1-b7fd-4156-f0b7-9aafe74f91f5",
        "colab": {
          "base_uri": "https://localhost:8080/"
        }
      },
      "source": [
        "print(math.sin(2))"
      ],
      "execution_count": null,
      "outputs": [
        {
          "output_type": "stream",
          "text": [
            "0.9092974268256817\n"
          ],
          "name": "stdout"
        }
      ]
    },
    {
      "cell_type": "markdown",
      "metadata": {
        "id": "M4d7GBWIovIg"
      },
      "source": [
        "**Refactor the for loop into a function**"
      ]
    },
    {
      "cell_type": "code",
      "metadata": {
        "id": "UD7yaJ0FoxfG"
      },
      "source": [
        "import math\n",
        "\n",
        "def func_sin(n):\n",
        "    x = 2\n",
        "    sin2 = 0\n",
        "    for i in range(n):\n",
        "        sin2+= ((-1)**i)*(x**((i*2)+1)/math.factorial((i*2)+1))\n",
        "    \n",
        "    return sin2"
      ],
      "execution_count": null,
      "outputs": []
    },
    {
      "cell_type": "code",
      "metadata": {
        "id": "1mDAiMLYpGth",
        "outputId": "0b776351-53b3-4320-efe5-59f4ebc6204f",
        "colab": {
          "base_uri": "https://localhost:8080/"
        }
      },
      "source": [
        "out = func_sin(10)\n",
        "print(out)"
      ],
      "execution_count": null,
      "outputs": [
        {
          "output_type": "stream",
          "text": [
            "0.909297426825641\n"
          ],
          "name": "stdout"
        }
      ]
    },
    {
      "cell_type": "code",
      "metadata": {
        "id": "TA7e2eKZpN88"
      },
      "source": [
        "import math\n",
        "\n",
        "def func_sin_aprox(x, n):\n",
        "    sin_approx = 0\n",
        "    for i in range(n):\n",
        "        sin_approx += ((-1)**i)*(x**((i*2)+1)/math.factorial((i*2)+1))\n",
        "    \n",
        "    return sin_approx"
      ],
      "execution_count": null,
      "outputs": []
    },
    {
      "cell_type": "code",
      "metadata": {
        "id": "s_ejoYCxphUh",
        "outputId": "5d4a0d89-07f9-41b9-fcbb-ef1f93d7d0c3",
        "colab": {
          "base_uri": "https://localhost:8080/"
        }
      },
      "source": [
        "\n",
        "out = func_sin_aprox(2,10)\n",
        "print(out)"
      ],
      "execution_count": null,
      "outputs": [
        {
          "output_type": "stream",
          "text": [
            "0.909297426825641\n"
          ],
          "name": "stdout"
        }
      ]
    },
    {
      "cell_type": "markdown",
      "metadata": {
        "id": "Yv4Boojup3Zi"
      },
      "source": [
        "**Use a for loop to calculate the difference between the Taylor Series expansion and Python's sin() function**"
      ]
    },
    {
      "cell_type": "code",
      "metadata": {
        "id": "Gd-3nWc4p-1Y",
        "outputId": "bc5c11bf-7c31-4fa9-fb59-d296fcedbb7d",
        "colab": {
          "base_uri": "https://localhost:8080/"
        }
      },
      "source": [
        "import math\n",
        "\n",
        "x = 2\n",
        "for i in range(1,11):\n",
        "    sin_approx = func_sin_aprox(x,i)\n",
        "    sin_exp = math.sin(x)\n",
        "    sin_error = abs(sin_approx - sin_exp)\n",
        "    print(f'{i} terms: Taylor Series approx= {sin_approx}, exp calc= {sin_exp}, error = {sin_error}')"
      ],
      "execution_count": null,
      "outputs": [
        {
          "output_type": "stream",
          "text": [
            "1 terms: Taylor Series approx= 2.0, exp calc= 0.9092974268256817, error = 1.0907025731743183\n",
            "2 terms: Taylor Series approx= 0.6666666666666667, exp calc= 0.9092974268256817, error = 0.24263076015901497\n",
            "3 terms: Taylor Series approx= 0.9333333333333333, exp calc= 0.9092974268256817, error = 0.02403590650765164\n",
            "4 terms: Taylor Series approx= 0.9079365079365079, exp calc= 0.9092974268256817, error = 0.001360918889173779\n",
            "5 terms: Taylor Series approx= 0.909347442680776, exp calc= 0.9092974268256817, error = 5.001585509434303e-05\n",
            "6 terms: Taylor Series approx= 0.9092961359628027, exp calc= 0.9092974268256817, error = 1.2908628790331278e-06\n",
            "7 terms: Taylor Series approx= 0.9092974515196738, exp calc= 0.9092974268256817, error = 2.469399207338796e-08\n",
            "8 terms: Taylor Series approx= 0.9092974264614476, exp calc= 0.9092974268256817, error = 3.642340873355465e-10\n",
            "9 terms: Taylor Series approx= 0.909297426829951, exp calc= 0.9092974268256817, error = 4.269251618893577e-12\n",
            "10 terms: Taylor Series approx= 0.909297426825641, exp calc= 0.9092974268256817, error = 4.0745185003743245e-14\n"
          ],
          "name": "stdout"
        }
      ]
    },
    {
      "cell_type": "markdown",
      "metadata": {
        "id": "3JiTTo3Cqgau"
      },
      "source": [
        "**Use a break statement to exit a for loop early**"
      ]
    },
    {
      "cell_type": "code",
      "metadata": {
        "id": "u-jPQjOnqkak",
        "outputId": "636d6530-e3f4-4297-9bc1-2494587ca6b6",
        "colab": {
          "base_uri": "https://localhost:8080/"
        }
      },
      "source": [
        "import math\n",
        "\n",
        "x = 2\n",
        "for i in range(1,20):\n",
        "    sin_approx = func_sin_aprox(x,i)\n",
        "    sin_exp = math.sin(x)\n",
        "    sin_error = abs(sin_approx - sin_exp)\n",
        "    if sin_error < 1:\n",
        "        break\n",
        "        \n",
        "print(f'{i} terms: Taylor Series approx= {sin_approx}, exp calc= {sin_exp}, error = {sin_error}')"
      ],
      "execution_count": null,
      "outputs": [
        {
          "output_type": "stream",
          "text": [
            "2 terms: Taylor Series approx= 0.6666666666666667, exp calc= 0.9092974268256817, error = 0.24263076015901497\n"
          ],
          "name": "stdout"
        }
      ]
    },
    {
      "cell_type": "markdown",
      "metadata": {
        "id": "qks3Hm7TrfpI"
      },
      "source": [
        "**Build a plot to compare the Taylor Series approximation to Python's sin() function**"
      ]
    },
    {
      "cell_type": "code",
      "metadata": {
        "id": "Ctz7uHnXro4n",
        "outputId": "30b59e05-58fe-4467-b18e-3342fbbf8e67",
        "colab": {
          "base_uri": "https://localhost:8080/",
          "height": 269
        }
      },
      "source": [
        "import math\n",
        "import numpy as np\n",
        "import matplotlib.pyplot as plt\n",
        "%matplotlib inline\n",
        "\n",
        "angles = np.arange(0,12,0.1)\n",
        "for_system = np.sin(angles)\n",
        "for_taylor = [func_sin_aprox(angle,3) for angle in angles]\n",
        "\n",
        "fig, ax = plt.subplots()\n",
        "ax.plot(angles,for_system)\n",
        "ax.plot(angles,for_taylor)\n",
        "ax.set_ylim([-1,20])\n",
        "ax.legend(['sin(x) function','Taylor Series - 3 terms'])\n",
        "\n",
        "plt.show()\n"
      ],
      "execution_count": null,
      "outputs": [
        {
          "output_type": "display_data",
          "data": {
            "image/png": "[encoded data removed]",
            "text/plain": [
              "<Figure size 432x288 with 1 Axes>"
            ]
          },
          "metadata": {
            "tags": [],
            "needs_background": "light"
          }
        }
      ]
    },
    {
      "cell_type": "code",
      "metadata": {
        "id": "KRKegtMRsGCq",
        "outputId": "d82fa7fc-2377-461b-f791-674d7790ecac",
        "colab": {
          "base_uri": "https://localhost:8080/",
          "height": 269
        }
      },
      "source": [
        "import math\n",
        "import numpy as np\n",
        "import matplotlib.pyplot as plt\n",
        "%matplotlib inline\n",
        "\n",
        "angles = np.arange(0,12,0.1)\n",
        "for_system = np.sin(angles)\n",
        "\n",
        "fig, ax = plt.subplots()\n",
        "ax.plot(angles,for_system)\n",
        "\n",
        "# add lines for between 1 and 6 terms in the Taylor Series\n",
        "for i in range(1,6):\n",
        "    for_taylor = [func_sin_aprox(angle,3) for angle in angles]\n",
        "    ax.plot(angles,for_taylor)\n",
        "\n",
        "ax.set_ylim([-1,20])\n",
        "\n",
        "# set up legend\n",
        "legend_lst = ['sin(x) function']\n",
        "for i in range(1,6):\n",
        "    legend_lst.append(f'Taylor Series - {i} terms')\n",
        "ax.legend(legend_lst, loc=3)\n",
        "\n",
        "plt.show()"
      ],
      "execution_count": null,
      "outputs": [
        {
          "output_type": "display_data",
          "data": {
            "image/png": "[encoded data removed]",
            "text/plain": [
              "<Figure size 432x288 with 1 Axes>"
            ]
          },
          "metadata": {
            "tags": [],
            "needs_background": "light"
          }
        }
      ]
    },
    {
      "cell_type": "markdown",
      "metadata": {
        "id": "y34zfaGbtcSJ"
      },
      "source": [
        "### **cos(x)**"
      ]
    },
    {
      "cell_type": "markdown",
      "metadata": {
        "id": "unMBOzcTtkbi"
      },
      "source": [
        "**Code the Taylor Series by writing out each term individually**"
      ]
    },
    {
      "cell_type": "code",
      "metadata": {
        "id": "4DaluAaOuTqV",
        "outputId": "eb04180a-dc49-4d53-b362-f2aeef178955",
        "colab": {
          "base_uri": "https://localhost:8080/"
        }
      },
      "source": [
        "import math\n",
        "\n",
        "x = 2\n",
        "cos2 = x**0/math.factorial(0) - x**2/math.factorial(2) + x**4/math.factorial(4) - x**6/math.factorial(6) + x**8/math.factorial(8)\n",
        "print(cos2)"
      ],
      "execution_count": null,
      "outputs": [
        {
          "output_type": "stream",
          "text": [
            "-0.41587301587301595\n"
          ],
          "name": "stdout"
        }
      ]
    },
    {
      "cell_type": "code",
      "metadata": {
        "id": "6mE6QARlupBY",
        "outputId": "5ca728dc-0638-47e9-c7de-22c03d15c843",
        "colab": {
          "base_uri": "https://localhost:8080/"
        }
      },
      "source": [
        "print(math.cos(2))"
      ],
      "execution_count": null,
      "outputs": [
        {
          "output_type": "stream",
          "text": [
            "-0.4161468365471424\n"
          ],
          "name": "stdout"
        }
      ]
    },
    {
      "cell_type": "markdown",
      "metadata": {
        "id": "HUzntytquv2I"
      },
      "source": [
        "**Use a for loop to calculate a Taylor Series**"
      ]
    },
    {
      "cell_type": "code",
      "metadata": {
        "id": "W_XT2c0Suzri",
        "outputId": "733f65e5-3392-4ac8-c82a-af3aa391154d",
        "colab": {
          "base_uri": "https://localhost:8080/"
        }
      },
      "source": [
        "import math\n",
        "\n",
        "x = 2\n",
        "cos2 = 0\n",
        "for i in range(5):\n",
        "    cos2 += ((-1)**i)*(x**(i*2)/math.factorial(i*2))\n",
        "    \n",
        "print(cos2)"
      ],
      "execution_count": null,
      "outputs": [
        {
          "output_type": "stream",
          "text": [
            "-0.41587301587301595\n"
          ],
          "name": "stdout"
        }
      ]
    },
    {
      "cell_type": "code",
      "metadata": {
        "id": "eniELpWExSqo",
        "outputId": "908df7f5-352e-4e15-90ab-56da2a50cde2",
        "colab": {
          "base_uri": "https://localhost:8080/"
        }
      },
      "source": [
        "print(math.cos(2))"
      ],
      "execution_count": null,
      "outputs": [
        {
          "output_type": "stream",
          "text": [
            "-0.4161468365471424\n"
          ],
          "name": "stdout"
        }
      ]
    },
    {
      "cell_type": "markdown",
      "metadata": {
        "id": "IkPQT4yIxkr2"
      },
      "source": [
        "**Refactor the for loop into a function**"
      ]
    },
    {
      "cell_type": "code",
      "metadata": {
        "id": "04BhA0gtxnsq"
      },
      "source": [
        "import math\n",
        "\n",
        "def func_cos(n):\n",
        "    x = 2\n",
        "    cos2 = 0\n",
        "    for i in range(n):\n",
        "        cos2 += ((-1)**i)*(x**(i*2)/math.factorial(i*2))\n",
        "    \n",
        "    return cos2"
      ],
      "execution_count": null,
      "outputs": []
    },
    {
      "cell_type": "code",
      "metadata": {
        "id": "WX-deSjFx_-g",
        "outputId": "e78ab104-2a4d-4cb6-dbcd-87a7e23f91cf",
        "colab": {
          "base_uri": "https://localhost:8080/"
        }
      },
      "source": [
        "out = func_cos(10)\n",
        "print(out)"
      ],
      "execution_count": null,
      "outputs": [
        {
          "output_type": "stream",
          "text": [
            "-0.41614683654756973\n"
          ],
          "name": "stdout"
        }
      ]
    },
    {
      "cell_type": "code",
      "metadata": {
        "id": "1H2WejZqyFNk"
      },
      "source": [
        "import math\n",
        "\n",
        "def func_cos_aporx(x, n):\n",
        "    cos_approx = 0\n",
        "    for i in range(n):\n",
        "        cos_approx += ((-1)**i)*((x**(i*2))/math.factorial(i*2))\n",
        "    \n",
        "    return cos_approx"
      ],
      "execution_count": null,
      "outputs": []
    },
    {
      "cell_type": "code",
      "metadata": {
        "id": "SFN-BfzPyO8N",
        "outputId": "bc29586e-3d51-40cf-a8af-2b933d61df33",
        "colab": {
          "base_uri": "https://localhost:8080/"
        }
      },
      "source": [
        "out = func_cos_aporx(2,10)\n",
        "print(out)"
      ],
      "execution_count": null,
      "outputs": [
        {
          "output_type": "stream",
          "text": [
            "-0.41614683654756973\n"
          ],
          "name": "stdout"
        }
      ]
    },
    {
      "cell_type": "markdown",
      "metadata": {
        "id": "p60slyEmyZBd"
      },
      "source": [
        "**Use a for loop to calculate the difference between the Taylor Series expansion and Python's cos() function**"
      ]
    },
    {
      "cell_type": "code",
      "metadata": {
        "id": "EsQDAC4qydSb",
        "outputId": "8b779978-d86c-4c6c-de1e-8e069785ed9b",
        "colab": {
          "base_uri": "https://localhost:8080/"
        }
      },
      "source": [
        "import math\n",
        "\n",
        "x = 2\n",
        "for i in range(1,11):\n",
        "    cos_approx = func_cos_aporx(x,i)\n",
        "    cos_exp = math.cos(x)\n",
        "    cos_error = abs(cos_approx - cos_exp)\n",
        "    print(f'{i} terms: Taylor Series approx= {cos_approx}, exp calc= {cos_exp}, error = {cos_error}')"
      ],
      "execution_count": null,
      "outputs": [
        {
          "output_type": "stream",
          "text": [
            "1 terms: Taylor Series approx= 1.0, exp calc= -0.4161468365471424, error = 1.4161468365471424\n",
            "2 terms: Taylor Series approx= -1.0, exp calc= -0.4161468365471424, error = 0.5838531634528576\n",
            "3 terms: Taylor Series approx= -0.33333333333333337, exp calc= -0.4161468365471424, error = 0.08281350321380904\n",
            "4 terms: Taylor Series approx= -0.4222222222222223, exp calc= -0.4161468365471424, error = 0.00607538567507987\n",
            "5 terms: Taylor Series approx= -0.41587301587301595, exp calc= -0.4161468365471424, error = 0.00027382067412645705\n",
            "6 terms: Taylor Series approx= -0.4161552028218696, exp calc= -0.4161468365471424, error = 8.366274727167333e-06\n",
            "7 terms: Taylor Series approx= -0.4161466517022073, exp calc= -0.4161468365471424, error = 1.8484493508053035e-07\n",
            "8 terms: Taylor Series approx= -0.4161468396389032, exp calc= -0.4161468365471424, error = 3.0917607918290457e-09\n",
            "9 terms: Taylor Series approx= -0.41614683650662493, exp calc= -0.4161468365471424, error = 4.0517478261392625e-11\n",
            "10 terms: Taylor Series approx= -0.41614683654756973, exp calc= -0.4161468365471424, error = 4.2732484217822275e-13\n"
          ],
          "name": "stdout"
        }
      ]
    },
    {
      "cell_type": "markdown",
      "metadata": {
        "id": "8CTNosGqzPbX"
      },
      "source": [
        "**Use a break statement to exit a for loop early.**"
      ]
    },
    {
      "cell_type": "code",
      "metadata": {
        "id": "6OTvcwB3zRcp",
        "outputId": "956c8030-0351-40c8-ceed-8ed1ad9d5783",
        "colab": {
          "base_uri": "https://localhost:8080/"
        }
      },
      "source": [
        "import math\n",
        "\n",
        "x = 2\n",
        "for i in range(1,20):\n",
        "    cos_approx = func_cos_aporx(x,i)\n",
        "    cos_exp = math.cos(x)\n",
        "    cos_error = abs(cos_approx - cos_exp)\n",
        "    if cos_error < 1:\n",
        "        break\n",
        "        \n",
        "print(f'{i} terms: Taylor Series approx= {cos_approx}, exp calc= {cos_exp}, error = {cos_error}')"
      ],
      "execution_count": null,
      "outputs": [
        {
          "output_type": "stream",
          "text": [
            "2 terms: Taylor Series approx= -1.0, exp calc= -0.4161468365471424, error = 0.5838531634528576\n"
          ],
          "name": "stdout"
        }
      ]
    },
    {
      "cell_type": "markdown",
      "metadata": {
        "id": "pvQAAeoBzwuR"
      },
      "source": [
        "**Build a plot to compare the Taylor Series approximation to Python's cos() function**"
      ]
    },
    {
      "cell_type": "code",
      "metadata": {
        "id": "qGWym4tmzzeB",
        "outputId": "dbbb4e58-bb85-4fda-af05-15d5d1d062ea",
        "colab": {
          "base_uri": "https://localhost:8080/",
          "height": 269
        }
      },
      "source": [
        "import math\n",
        "import numpy as np\n",
        "import matplotlib.pyplot as plt\n",
        "%matplotlib inline\n",
        "\n",
        "angles = np.arange(0,12,0.1)\n",
        "for_system = np.cos(angles)\n",
        "for_taylor = [func_cos_aporx(angle,3) for angle in angles]\n",
        "\n",
        "fig, ax = plt.subplots()\n",
        "ax.plot(angles,for_system)\n",
        "ax.plot(angles,for_taylor)\n",
        "ax.set_ylim([-7,4])\n",
        "ax.legend(['cos() function','Taylor Series - 3 terms'])\n",
        "\n",
        "plt.show()"
      ],
      "execution_count": null,
      "outputs": [
        {
          "output_type": "display_data",
          "data": {
            "image/png": "[encoded data removed]",
            "text/plain": [
              "<Figure size 432x288 with 1 Axes>"
            ]
          },
          "metadata": {
            "tags": [],
            "needs_background": "light"
          }
        }
      ]
    },
    {
      "cell_type": "code",
      "metadata": {
        "id": "gHP03x6S0WXu",
        "outputId": "2285e3ba-9594-4ff1-ebc4-bfb92f1f6b09",
        "colab": {
          "base_uri": "https://localhost:8080/",
          "height": 269
        }
      },
      "source": [
        "import math\n",
        "import numpy as np\n",
        "import matplotlib.pyplot as plt\n",
        "%matplotlib inline\n",
        "\n",
        "angles = np.arange(0,12,0.1)\n",
        "for_system = np.cos(angles)\n",
        "\n",
        "fig, ax = plt.subplots()\n",
        "ax.plot(angles,for_system)\n",
        "\n",
        "# add lines for between 1 and 6 terms in the Taylor Series\n",
        "for i in range(1,6):\n",
        "    for_taylor = [func_cos_aporx(angle,3) for angle in angles]\n",
        "    ax.plot(angles,for_taylor)\n",
        "\n",
        "ax.set_ylim([-7,4])\n",
        "\n",
        "# set up legend\n",
        "legend_lst = ['cos() function']\n",
        "for i in range(1,6):\n",
        "    legend_lst.append(f'Taylor Series - {i} terms')\n",
        "ax.legend(legend_lst, loc=3)\n",
        "\n",
        "plt.show()"
      ],
      "execution_count": null,
      "outputs": [
        {
          "output_type": "display_data",
          "data": {
            "image/png": "[encoded data removed]",
            "text/plain": [
              "<Figure size 432x288 with 1 Axes>"
            ]
          },
          "metadata": {
            "tags": [],
            "needs_background": "light"
          }
        }
      ]
    },
    {
      "cell_type": "markdown",
      "metadata": {
        "id": "tDye9CTN26CH"
      },
      "source": [
        "### **(1/(1-x))**"
      ]
    },
    {
      "cell_type": "code",
      "metadata": {
        "id": "2Da5_Mrw3JAp"
      },
      "source": [
        "def div(x):\n",
        "  return (1/(1-x))"
      ],
      "execution_count": null,
      "outputs": []
    },
    {
      "cell_type": "markdown",
      "metadata": {
        "id": "qA4aMfwn3sFu"
      },
      "source": [
        "**Code the Taylor Series by writing out each term individually**"
      ]
    },
    {
      "cell_type": "code",
      "metadata": {
        "id": "v0uNdc6L3wtJ",
        "outputId": "fe8af0e8-2421-411d-d793-793b895375e3",
        "colab": {
          "base_uri": "https://localhost:8080/"
        }
      },
      "source": [
        "\n",
        "\n",
        "x = 0.1\n",
        "div2 = x**0 + x**1 + x**2 + x**3 + x**4\n",
        "print(div2)"
      ],
      "execution_count": null,
      "outputs": [
        {
          "output_type": "stream",
          "text": [
            "1.1111\n"
          ],
          "name": "stdout"
        }
      ]
    },
    {
      "cell_type": "code",
      "metadata": {
        "id": "5oNiXxRx46Z6",
        "outputId": "ad70e731-81b7-4adc-e987-f578a8372e85",
        "colab": {
          "base_uri": "https://localhost:8080/"
        }
      },
      "source": [
        "print(div(0.1))"
      ],
      "execution_count": null,
      "outputs": [
        {
          "output_type": "stream",
          "text": [
            "1.1111111111111112\n"
          ],
          "name": "stdout"
        }
      ]
    },
    {
      "cell_type": "markdown",
      "metadata": {
        "id": "F7CJcJ0I5aII"
      },
      "source": [
        "**Use a for loop to calculate a Taylor Series**"
      ]
    },
    {
      "cell_type": "code",
      "metadata": {
        "id": "dcUmpWem5cS7",
        "outputId": "d8c60571-6fcb-42dd-c5c7-adf448b6b499",
        "colab": {
          "base_uri": "https://localhost:8080/"
        }
      },
      "source": [
        "\n",
        "\n",
        "x = 0.1\n",
        "div2 = 0\n",
        "for i in range(5):\n",
        "    div2 += x**i\n",
        "    \n",
        "print(div2)"
      ],
      "execution_count": null,
      "outputs": [
        {
          "output_type": "stream",
          "text": [
            "1.1111\n"
          ],
          "name": "stdout"
        }
      ]
    },
    {
      "cell_type": "code",
      "metadata": {
        "id": "w2hwypNI5wZf",
        "outputId": "77358788-ec69-4775-d4da-34403a8e7b2a",
        "colab": {
          "base_uri": "https://localhost:8080/"
        }
      },
      "source": [
        "print(div(2))"
      ],
      "execution_count": null,
      "outputs": [
        {
          "output_type": "stream",
          "text": [
            "-1.0\n"
          ],
          "name": "stdout"
        }
      ]
    },
    {
      "cell_type": "markdown",
      "metadata": {
        "id": "2qtOPjIs7BPc"
      },
      "source": [
        "**Refactor the for loop into a function**"
      ]
    },
    {
      "cell_type": "code",
      "metadata": {
        "id": "2j-aI_hf7EAB"
      },
      "source": [
        "def func_div(n):\n",
        "    x = 0.1\n",
        "    div2 = 0\n",
        "    for i in range(n):\n",
        "        div2 += x**i\n",
        "    \n",
        "    return div2"
      ],
      "execution_count": null,
      "outputs": []
    },
    {
      "cell_type": "code",
      "metadata": {
        "id": "sCPtnATB7eEq",
        "outputId": "15926fa4-29fe-40f4-e023-1ccc07f6811c",
        "colab": {
          "base_uri": "https://localhost:8080/"
        }
      },
      "source": [
        "\n",
        "out = func_div(10)\n",
        "print(out)"
      ],
      "execution_count": null,
      "outputs": [
        {
          "output_type": "stream",
          "text": [
            "1.111111111\n"
          ],
          "name": "stdout"
        }
      ]
    },
    {
      "cell_type": "code",
      "metadata": {
        "id": "DHLsyY1h7kkI"
      },
      "source": [
        "def func_div2(x, n):\n",
        "    div_approx = 0\n",
        "    for i in range(n):\n",
        "        div_approx += x**i\n",
        "    \n",
        "    return div_approx"
      ],
      "execution_count": null,
      "outputs": []
    },
    {
      "cell_type": "code",
      "metadata": {
        "id": "JgpoAQSQ7r_1",
        "outputId": "c938ef5c-3cf4-4487-f0dd-818d217217c6",
        "colab": {
          "base_uri": "https://localhost:8080/"
        }
      },
      "source": [
        "out = func_div2(0.1,10)\n",
        "print(out)"
      ],
      "execution_count": null,
      "outputs": [
        {
          "output_type": "stream",
          "text": [
            "1.111111111\n"
          ],
          "name": "stdout"
        }
      ]
    },
    {
      "cell_type": "markdown",
      "metadata": {
        "id": "a8RomlWE7xvX"
      },
      "source": [
        "**Use a for loop to calculate the difference between the Taylor Series expansion and Geometric series function**"
      ]
    },
    {
      "cell_type": "code",
      "metadata": {
        "id": "tlXz_CW770Rn",
        "outputId": "938c9d8d-0272-4388-8fdd-7e8f53719942",
        "colab": {
          "base_uri": "https://localhost:8080/"
        }
      },
      "source": [
        "x = 0.1\n",
        "for i in range(1,11):\n",
        "    div_approx = func_div2(x,i)\n",
        "    div_exp = div(x)\n",
        "    div_error = abs(div_approx - div_exp)\n",
        "    print(f'{i} terms: Taylor Series approx= {div_approx}, exp calc= {div_exp}, error = {div_error}')"
      ],
      "execution_count": null,
      "outputs": [
        {
          "output_type": "stream",
          "text": [
            "1 terms: Taylor Series approx= 1.0, exp calc= 1.1111111111111112, error = 0.11111111111111116\n",
            "2 terms: Taylor Series approx= 1.1, exp calc= 1.1111111111111112, error = 0.011111111111111072\n",
            "3 terms: Taylor Series approx= 1.11, exp calc= 1.1111111111111112, error = 0.0011111111111110628\n",
            "4 terms: Taylor Series approx= 1.111, exp calc= 1.1111111111111112, error = 0.00011111111111117289\n",
            "5 terms: Taylor Series approx= 1.1111, exp calc= 1.1111111111111112, error = 1.1111111111183902e-05\n",
            "6 terms: Taylor Series approx= 1.11111, exp calc= 1.1111111111111112, error = 1.1111111111183902e-06\n",
            "7 terms: Taylor Series approx= 1.111111, exp calc= 1.1111111111111112, error = 1.1111111120065686e-07\n",
            "8 terms: Taylor Series approx= 1.1111111, exp calc= 1.1111111111111112, error = 1.1111111142270147e-08\n",
            "9 terms: Taylor Series approx= 1.11111111, exp calc= 1.1111111111111112, error = 1.1111112030448567e-09\n",
            "10 terms: Taylor Series approx= 1.111111111, exp calc= 1.1111111111111112, error = 1.1111112030448567e-10\n"
          ],
          "name": "stdout"
        }
      ]
    },
    {
      "cell_type": "markdown",
      "metadata": {
        "id": "xMrKp3VK9k6W"
      },
      "source": [
        "**Use a break statement to exit a for loop early.**"
      ]
    },
    {
      "cell_type": "code",
      "metadata": {
        "id": "d-GY5KrC9m1v",
        "outputId": "8673d6d0-f93b-401f-9dc8-85f4f930d759",
        "colab": {
          "base_uri": "https://localhost:8080/"
        }
      },
      "source": [
        "x = 0.1\n",
        "for i in range(1,20):\n",
        "    div_approx = func_div2(x,i)\n",
        "    div_exp = div(x)\n",
        "    div_error = abs(div_approx - div_exp)\n",
        "    if e_error < 1:\n",
        "        break\n",
        "        \n",
        "print(f'{i} terms: Taylor Series approx= {div_approx}, exp calc= {div_exp}, error = {div_error}')"
      ],
      "execution_count": null,
      "outputs": [
        {
          "output_type": "stream",
          "text": [
            "1 terms: Taylor Series approx= 1.0, exp calc= 1.1111111111111112, error = 0.11111111111111116\n"
          ],
          "name": "stdout"
        }
      ]
    },
    {
      "cell_type": "markdown",
      "metadata": {
        "id": "mJs2t0EU99qf"
      },
      "source": [
        "**Build a plot to compare the Taylor Series approximation to Geometric series function**"
      ]
    },
    {
      "cell_type": "code",
      "metadata": {
        "id": "cothE3eL-B9t",
        "outputId": "23e2ef8f-bdae-4847-e672-7ac4da45eb1c",
        "colab": {
          "base_uri": "https://localhost:8080/",
          "height": 269
        }
      },
      "source": [
        "import numpy as np\n",
        "import matplotlib.pyplot as plt\n",
        "%matplotlib inline\n",
        "\n",
        "angles = np.arange(0,1,0.1)\n",
        "for_system = div(angles)\n",
        "for_taylor = [func_div2(angle,3) for angle in angles]\n",
        "\n",
        "fig, ax = plt.subplots()\n",
        "ax.plot(angles,for_system)\n",
        "ax.plot(angles,for_taylor)\n",
        "ax.set_ylim([-2,7])\n",
        "ax.legend(['(1-(1-x)) function','Taylor Series - 3 terms'])\n",
        "\n",
        "plt.show()"
      ],
      "execution_count": null,
      "outputs": [
        {
          "output_type": "display_data",
          "data": {
            "image/png": "[encoded data removed]",
            "text/plain": [
              "<Figure size 432x288 with 1 Axes>"
            ]
          },
          "metadata": {
            "tags": [],
            "needs_background": "light"
          }
        }
      ]
    },
    {
      "cell_type": "code",
      "metadata": {
        "id": "l_tzF1elAXFA",
        "outputId": "26e4dd2e-acc7-426d-c2fb-f4f25163f5c8",
        "colab": {
          "base_uri": "https://localhost:8080/",
          "height": 265
        }
      },
      "source": [
        "import numpy as np\n",
        "import matplotlib.pyplot as plt\n",
        "%matplotlib inline\n",
        "\n",
        "angles = np.arange(0,1,0.1)\n",
        "for_system = div(angles)\n",
        "\n",
        "fig, ax = plt.subplots()\n",
        "ax.plot(angles,for_system)\n",
        "\n",
        "# add lines for between 1 and 6 terms in the Taylor Series\n",
        "for i in range(1,6):\n",
        "    for_taylor = [func_div2(angle,3) for angle in angles]\n",
        "    ax.plot(angles,for_taylor)\n",
        "\n",
        "ax.set_ylim([-1,17])\n",
        "\n",
        "# set up legend\n",
        "legend_lst = ['(1-(1-x)) function']\n",
        "for i in range(1,6):\n",
        "    legend_lst.append(f'Taylor Series - {i} terms')\n",
        "ax.legend(legend_lst, loc=3)\n",
        "\n",
        "plt.show()"
      ],
      "execution_count": null,
      "outputs": [
        {
          "output_type": "display_data",
          "data": {
            "image/png": "[encoded data removed]",
            "text/plain": [
              "<Figure size 432x288 with 1 Axes>"
            ]
          },
          "metadata": {
            "tags": [],
            "needs_background": "light"
          }
        }
      ]
    },
    {
      "cell_type": "markdown",
      "metadata": {
        "id": "tgpj2cNHCyxo"
      },
      "source": [
        "### **ln(1+x)**"
      ]
    },
    {
      "cell_type": "code",
      "metadata": {
        "id": "99POZme6DDsW"
      },
      "source": [
        "import math\n",
        "def log_1x(x):\n",
        "  o = 1+x\n",
        "  return math.log(o)"
      ],
      "execution_count": 1,
      "outputs": []
    },
    {
      "cell_type": "markdown",
      "metadata": {
        "id": "NmqAlEg6C4g3"
      },
      "source": [
        "**Code the Taylor Series by writing out each term individually**"
      ]
    },
    {
      "cell_type": "code",
      "metadata": {
        "id": "-joMiQWuDjC1",
        "outputId": "c65e55a3-e25c-4154-e07a-ac30b8c0c1d8",
        "colab": {
          "base_uri": "https://localhost:8080/"
        }
      },
      "source": [
        "import math\n",
        "\n",
        "x = 0.1\n",
        "log2 = x**1/1 - x**2/2 + x**3/3 - x**4/4 + x**5/5\n",
        "print(log2)\n"
      ],
      "execution_count": 2,
      "outputs": [
        {
          "output_type": "stream",
          "text": [
            "0.09531033333333334\n"
          ],
          "name": "stdout"
        }
      ]
    },
    {
      "cell_type": "code",
      "metadata": {
        "id": "ZpGg2p2oEl3W",
        "outputId": "e9dc03db-2ec8-404e-d88d-83d59ba47872",
        "colab": {
          "base_uri": "https://localhost:8080/"
        }
      },
      "source": [
        "print(math.log(1+0.1))"
      ],
      "execution_count": 3,
      "outputs": [
        {
          "output_type": "stream",
          "text": [
            "0.09531017980432493\n"
          ],
          "name": "stdout"
        }
      ]
    },
    {
      "cell_type": "markdown",
      "metadata": {
        "id": "LH0MRVgxE6F7"
      },
      "source": [
        "**Use a for loop to calculate a Taylor Series**"
      ]
    },
    {
      "cell_type": "code",
      "metadata": {
        "id": "JiFja33TE8ts",
        "outputId": "ceb66b3d-83fc-4e60-90bb-59f9625c304e",
        "colab": {
          "base_uri": "https://localhost:8080/"
        }
      },
      "source": [
        "import math\n",
        "\n",
        "x = 0.1\n",
        "log2 = 0\n",
        "for i in range(5):\n",
        "    log2 += -((-1)**(i+1))*(x**(i+1)/(i+1))\n",
        "    \n",
        "print(log2)"
      ],
      "execution_count": 4,
      "outputs": [
        {
          "output_type": "stream",
          "text": [
            "0.09531033333333334\n"
          ],
          "name": "stdout"
        }
      ]
    },
    {
      "cell_type": "code",
      "metadata": {
        "id": "u-1TvQ_KHNli",
        "outputId": "c9913ea7-9c38-4297-e2db-8d9f723c5662",
        "colab": {
          "base_uri": "https://localhost:8080/"
        }
      },
      "source": [
        "print(math.log(1+0.1))"
      ],
      "execution_count": 5,
      "outputs": [
        {
          "output_type": "stream",
          "text": [
            "0.09531017980432493\n"
          ],
          "name": "stdout"
        }
      ]
    },
    {
      "cell_type": "markdown",
      "metadata": {
        "id": "U92qpbmtHcWY"
      },
      "source": [
        "**Refactor the for loop into a function**"
      ]
    },
    {
      "cell_type": "code",
      "metadata": {
        "id": "kHAQGJAPHgT4"
      },
      "source": [
        "import math\n",
        "\n",
        "def logaritmo(n):\n",
        "    x = 0.1\n",
        "    log2 = 0\n",
        "    for i in range(n):\n",
        "        log2 += -((-1)**(i+1))*(x**(i+1)/(i+1))\n",
        "    \n",
        "    return log2"
      ],
      "execution_count": 6,
      "outputs": []
    },
    {
      "cell_type": "code",
      "metadata": {
        "id": "eMSa30dRH5dW",
        "outputId": "b02735a1-9c81-4c8a-f59a-2dc369030555",
        "colab": {
          "base_uri": "https://localhost:8080/"
        }
      },
      "source": [
        "out = logaritmo(10)\n",
        "print(out)"
      ],
      "execution_count": 7,
      "outputs": [
        {
          "output_type": "stream",
          "text": [
            "0.09531017980349207\n"
          ],
          "name": "stdout"
        }
      ]
    },
    {
      "cell_type": "code",
      "metadata": {
        "id": "tx93QmOHIP6L"
      },
      "source": [
        "import math\n",
        "\n",
        "def logaritmo2(x, n):\n",
        "    log_approx = 0\n",
        "    for i in range(n):\n",
        "        log_approx += -((-1)**(i+1))*(x**(i+1)/(i+1))\n",
        "    \n",
        "    return log_approx"
      ],
      "execution_count": 8,
      "outputs": []
    },
    {
      "cell_type": "code",
      "metadata": {
        "id": "8hQXcNsKIk5c",
        "outputId": "2f6c1d17-70c2-4392-ae17-0df66411eee1",
        "colab": {
          "base_uri": "https://localhost:8080/"
        }
      },
      "source": [
        "out = logaritmo2(0.1,10)\n",
        "print(out)"
      ],
      "execution_count": 9,
      "outputs": [
        {
          "output_type": "stream",
          "text": [
            "0.09531017980349207\n"
          ],
          "name": "stdout"
        }
      ]
    },
    {
      "cell_type": "markdown",
      "metadata": {
        "id": "qh_JOCZSI55v"
      },
      "source": [
        "**Use a for loop to calculate the difference between the Taylor Series expansion and ln(1+x) function**"
      ]
    },
    {
      "cell_type": "code",
      "metadata": {
        "id": "1STF0pzQKBtC",
        "outputId": "ce8b17f1-787f-4c9d-c4a0-5d3dbc636225",
        "colab": {
          "base_uri": "https://localhost:8080/"
        }
      },
      "source": [
        "import math\n",
        "\n",
        "x = 0.1\n",
        "for i in range(1,11):\n",
        "    log_approx = logaritmo2(x,i)\n",
        "    log_exp = log_1x(x)\n",
        "    log_error = abs(log_approx - log_exp)\n",
        "    print(f'{i} terms: Taylor Series approx= {log_approx}, exp calc= {log_exp}, error = {log_error}')"
      ],
      "execution_count": 10,
      "outputs": [
        {
          "output_type": "stream",
          "text": [
            "1 terms: Taylor Series approx= 0.1, exp calc= 0.09531017980432493, error = 0.004689820195675071\n",
            "2 terms: Taylor Series approx= 0.095, exp calc= 0.09531017980432493, error = 0.00031017980432493375\n",
            "3 terms: Taylor Series approx= 0.09533333333333334, exp calc= 0.09531017980432493, error = 2.3153529008404505e-05\n",
            "4 terms: Taylor Series approx= 0.09530833333333334, exp calc= 0.09531017980432493, error = 1.8464709915927413e-06\n",
            "5 terms: Taylor Series approx= 0.09531033333333334, exp calc= 0.09531017980432493, error = 1.5352900840925887e-07\n",
            "6 terms: Taylor Series approx= 0.09531016666666668, exp calc= 0.09531017980432493, error = 1.3137658252948547e-08\n",
            "7 terms: Taylor Series approx= 0.09531018095238097, exp calc= 0.09531017980432493, error = 1.1480560391241568e-09\n",
            "8 terms: Taylor Series approx= 0.09531017970238097, exp calc= 0.09531017980432493, error = 1.0194396715679233e-10\n",
            "9 terms: Taylor Series approx= 0.09531017981349207, exp calc= 0.09531017980432493, error = 9.167139269905533e-12\n",
            "10 terms: Taylor Series approx= 0.09531017980349207, exp calc= 0.09531017980432493, error = 8.328615574981768e-13\n"
          ],
          "name": "stdout"
        }
      ]
    },
    {
      "cell_type": "markdown",
      "metadata": {
        "id": "Vw2NJWGjNbY9"
      },
      "source": [
        "**Use a break statement to exit a for loop early.**"
      ]
    },
    {
      "cell_type": "code",
      "metadata": {
        "id": "NmLNId_TNdDI",
        "outputId": "75e8ab9c-7367-462c-b975-8b44fc8e18d9",
        "colab": {
          "base_uri": "https://localhost:8080/"
        }
      },
      "source": [
        "import math\n",
        "\n",
        "x = 0.1\n",
        "for i in range(1,20):\n",
        "    log_approx = logaritmo2(x,i)\n",
        "    log_exp = log_1x(x)\n",
        "    log_error = abs(log_approx - log_exp)\n",
        "    if log_error < 1:\n",
        "        break\n",
        "        \n",
        "print(f'{i} terms: Taylor Series approx= {log_approx}, exp calc= {log_exp}, error = {log_error}')"
      ],
      "execution_count": 11,
      "outputs": [
        {
          "output_type": "stream",
          "text": [
            "1 terms: Taylor Series approx= 0.1, exp calc= 0.09531017980432493, error = 0.004689820195675071\n"
          ],
          "name": "stdout"
        }
      ]
    },
    {
      "cell_type": "markdown",
      "metadata": {
        "id": "ngqurrYoNyLh"
      },
      "source": [
        "**Build a plot to compare the Taylor Series approximation to ln(1+x) function**"
      ]
    },
    {
      "cell_type": "code",
      "metadata": {
        "id": "Ub1sbNCUOqZf",
        "outputId": "1efaf347-36fa-4f92-f69d-9cd13379e73c",
        "colab": {
          "base_uri": "https://localhost:8080/",
          "height": 303
        }
      },
      "source": [
        "import math\n",
        "import numpy as np\n",
        "import matplotlib.pyplot as plt\n",
        "%matplotlib inline\n",
        "\n",
        "angles = np.arange(-1,1,0.1)\n",
        "for_system = np.log(angles+1)\n",
        "for_taylor = [logaritmo2(angle,3) for angle in angles]\n",
        "\n",
        "fig, ax = plt.subplots()\n",
        "ax.plot(angles,for_system)\n",
        "ax.plot(angles,for_taylor)\n",
        "ax.set_ylim([-2,7])\n",
        "ax.legend(['ln(1+x) function','Taylor Series - 3 terms'])\n",
        "\n",
        "plt.show()\n"
      ],
      "execution_count": 15,
      "outputs": [
        {
          "output_type": "stream",
          "text": [
            "/usr/local/lib/python3.6/dist-packages/ipykernel_launcher.py:7: RuntimeWarning: divide by zero encountered in log\n",
            "  import sys\n"
          ],
          "name": "stderr"
        },
        {
          "output_type": "display_data",
          "data": {
            "image/png": "[encoded data removed]",
            "text/plain": [
              "<Figure size 432x288 with 1 Axes>"
            ]
          },
          "metadata": {
            "tags": [],
            "needs_background": "light"
          }
        }
      ]
    },
    {
      "cell_type": "code",
      "metadata": {
        "id": "zGRRsir7dtFw",
        "outputId": "fa51de68-7837-45fd-ea40-60c77a3d0af4",
        "colab": {
          "base_uri": "https://localhost:8080/",
          "height": 299
        }
      },
      "source": [
        "import math\n",
        "import numpy as np\n",
        "import matplotlib.pyplot as plt\n",
        "%matplotlib inline\n",
        "\n",
        "angles = np.arange(-1,1,0.1)\n",
        "for_system = np.log(angles+1)\n",
        "\n",
        "fig, ax = plt.subplots()\n",
        "ax.plot(angles,for_system)\n",
        "\n",
        "# add lines for between 1 and 6 terms in the Taylor Series\n",
        "for i in range(1,6):\n",
        "    for_taylor = [logaritmo2(angle,3) for angle in angles]\n",
        "    ax.plot(angles,for_taylor)\n",
        "\n",
        "ax.set_ylim([-8,7])\n",
        "\n",
        "# set up legend\n",
        "legend_lst = ['ln(1+x) function']\n",
        "for i in range(1,6):\n",
        "    legend_lst.append(f'Taylor Series - {i} terms')\n",
        "ax.legend(legend_lst, loc=3)\n",
        "\n",
        "plt.show()"
      ],
      "execution_count": 19,
      "outputs": [
        {
          "output_type": "stream",
          "text": [
            "/usr/local/lib/python3.6/dist-packages/ipykernel_launcher.py:7: RuntimeWarning: divide by zero encountered in log\n",
            "  import sys\n"
          ],
          "name": "stderr"
        },
        {
          "output_type": "display_data",
          "data": {
            "image/png": "[encoded data removed]",
            "text/plain": [
              "<Figure size 432x288 with 1 Axes>"
            ]
          },
          "metadata": {
            "tags": [],
            "needs_background": "light"
          }
        }
      ]
    },
    {
      "cell_type": "markdown",
      "metadata": {
        "id": "9DRUDTsWi8yX"
      },
      "source": [
        "### **ln(x)**"
      ]
    },
    {
      "cell_type": "markdown",
      "metadata": {
        "id": "AKICpok8jA1n"
      },
      "source": [
        "**Code the Taylor Series by writing out each term individually**"
      ]
    },
    {
      "cell_type": "code",
      "metadata": {
        "id": "6DQxfSMkji28",
        "outputId": "552c309c-4f81-451f-b5b3-5ea4eccdcd63",
        "colab": {
          "base_uri": "https://localhost:8080/"
        }
      },
      "source": [
        "import math\n",
        "\n",
        "x = 2\n",
        "l_natural = (x-1)**1/1 - (x-1)**2/2 + (x-1)**3/3 - (x-1)**4/4 + (x-1)**5/5\n",
        "print(l_natural)"
      ],
      "execution_count": 31,
      "outputs": [
        {
          "output_type": "stream",
          "text": [
            "0.7833333333333332\n"
          ],
          "name": "stdout"
        }
      ]
    },
    {
      "cell_type": "code",
      "metadata": {
        "id": "x_o-JLYAlAeh",
        "outputId": "b47e7f8b-9fca-4ae5-9a71-ea5ff5085b87",
        "colab": {
          "base_uri": "https://localhost:8080/"
        }
      },
      "source": [
        "print(math.log(2))"
      ],
      "execution_count": 33,
      "outputs": [
        {
          "output_type": "stream",
          "text": [
            "0.6931471805599453\n"
          ],
          "name": "stdout"
        }
      ]
    },
    {
      "cell_type": "markdown",
      "metadata": {
        "id": "6voU2BeRlPZK"
      },
      "source": [
        "**Use a for loop to calculate a Taylor Series**"
      ]
    },
    {
      "cell_type": "code",
      "metadata": {
        "id": "w5-Ntq6VlRQv",
        "outputId": "c8c8da09-cbd1-4147-9441-5fec76336766",
        "colab": {
          "base_uri": "https://localhost:8080/"
        }
      },
      "source": [
        "import math\n",
        "\n",
        "x = 2\n",
        "l_natural = 0\n",
        "for i in range(10):\n",
        "    l_natural += ((-1)**i)*((x-1)**(i+1)/(i+1))\n",
        "    \n",
        "print(l_natural)"
      ],
      "execution_count": 34,
      "outputs": [
        {
          "output_type": "stream",
          "text": [
            "0.6456349206349207\n"
          ],
          "name": "stdout"
        }
      ]
    },
    {
      "cell_type": "code",
      "metadata": {
        "id": "PpyM-CmRl_Hv",
        "outputId": "4fcc2835-be20-4d53-bcc3-bf06763af172",
        "colab": {
          "base_uri": "https://localhost:8080/"
        }
      },
      "source": [
        "print(math.log(2))"
      ],
      "execution_count": 35,
      "outputs": [
        {
          "output_type": "stream",
          "text": [
            "0.6931471805599453\n"
          ],
          "name": "stdout"
        }
      ]
    },
    {
      "cell_type": "markdown",
      "metadata": {
        "id": "0oNOyC_EmEkQ"
      },
      "source": [
        "**Refactor the for loop into a function**"
      ]
    },
    {
      "cell_type": "code",
      "metadata": {
        "id": "EDTFT8g1mIUu"
      },
      "source": [
        "import math\n",
        "\n",
        "def l_n(n):\n",
        "    x = 2\n",
        "    l_natural = 0\n",
        "    for i in range(n):\n",
        "        l_natural += ((-1)**i)*((x-1)**(i+1)/(i+1))\n",
        "    \n",
        "    return l_natural"
      ],
      "execution_count": 36,
      "outputs": []
    },
    {
      "cell_type": "code",
      "metadata": {
        "id": "rcj65SN0ma5O",
        "outputId": "318fe2a5-44d9-4f61-bb50-dda0927164fa",
        "colab": {
          "base_uri": "https://localhost:8080/"
        }
      },
      "source": [
        "out = l_n(10)\n",
        "print(out)"
      ],
      "execution_count": 37,
      "outputs": [
        {
          "output_type": "stream",
          "text": [
            "0.6456349206349207\n"
          ],
          "name": "stdout"
        }
      ]
    },
    {
      "cell_type": "code",
      "metadata": {
        "id": "ERrUSBymmgsg"
      },
      "source": [
        "import math\n",
        "\n",
        "def l_n_2(x, n):\n",
        "    l_natural = 0\n",
        "    for i in range(n):\n",
        "        l_natural += ((-1)**i)*((x-1)**(i+1)/(i+1))\n",
        "    \n",
        "    return l_natural"
      ],
      "execution_count": 38,
      "outputs": []
    },
    {
      "cell_type": "code",
      "metadata": {
        "id": "9JJf2FkpmuxR",
        "outputId": "e611f9a6-a0dc-402b-ca31-a753dab324eb",
        "colab": {
          "base_uri": "https://localhost:8080/"
        }
      },
      "source": [
        "out = l_n_2(2,10)\n",
        "print(out)"
      ],
      "execution_count": 39,
      "outputs": [
        {
          "output_type": "stream",
          "text": [
            "0.6456349206349207\n"
          ],
          "name": "stdout"
        }
      ]
    },
    {
      "cell_type": "markdown",
      "metadata": {
        "id": "2lU_rsV2m2ox"
      },
      "source": [
        "**Use a for loop to calculate the difference between the Taylor Series expansion and Python's log() function**"
      ]
    },
    {
      "cell_type": "code",
      "metadata": {
        "id": "L56PI1zNnTpn",
        "outputId": "01b28919-cb27-4138-9ba6-7bf3edf91d2b",
        "colab": {
          "base_uri": "https://localhost:8080/"
        }
      },
      "source": [
        "import math\n",
        "\n",
        "x = 2\n",
        "for i in range(1,11):\n",
        "    l_approx = l_n_2(x,i)\n",
        "    l_exp = math.log(x)\n",
        "    l_error = abs(l_approx - l_exp)\n",
        "    print(f'{i} terms: Taylor Series approx= {l_approx}, exp calc= {l_exp}, error = {l_error}')"
      ],
      "execution_count": 40,
      "outputs": [
        {
          "output_type": "stream",
          "text": [
            "1 terms: Taylor Series approx= 1.0, exp calc= 0.6931471805599453, error = 0.3068528194400547\n",
            "2 terms: Taylor Series approx= 0.5, exp calc= 0.6931471805599453, error = 0.1931471805599453\n",
            "3 terms: Taylor Series approx= 0.8333333333333333, exp calc= 0.6931471805599453, error = 0.14018615277338797\n",
            "4 terms: Taylor Series approx= 0.5833333333333333, exp calc= 0.6931471805599453, error = 0.10981384722661203\n",
            "5 terms: Taylor Series approx= 0.7833333333333332, exp calc= 0.6931471805599453, error = 0.09018615277338793\n",
            "6 terms: Taylor Series approx= 0.6166666666666666, exp calc= 0.6931471805599453, error = 0.0764805138932787\n",
            "7 terms: Taylor Series approx= 0.7595238095238095, exp calc= 0.6931471805599453, error = 0.0663766289638642\n",
            "8 terms: Taylor Series approx= 0.6345238095238095, exp calc= 0.6931471805599453, error = 0.058623371036135796\n",
            "9 terms: Taylor Series approx= 0.7456349206349207, exp calc= 0.6931471805599453, error = 0.052487740074975364\n",
            "10 terms: Taylor Series approx= 0.6456349206349207, exp calc= 0.6931471805599453, error = 0.047512259925024614\n"
          ],
          "name": "stdout"
        }
      ]
    },
    {
      "cell_type": "markdown",
      "metadata": {
        "id": "-ikiGq9Vn-8n"
      },
      "source": [
        "**Use a break statement to exit a for loop early**"
      ]
    },
    {
      "cell_type": "code",
      "metadata": {
        "id": "05mjmGKboC5P",
        "outputId": "dd7ff753-85d9-498d-a171-68e003ef9608",
        "colab": {
          "base_uri": "https://localhost:8080/"
        }
      },
      "source": [
        "import math\n",
        "\n",
        "x = 2\n",
        "for i in range(1,20):\n",
        "    l_approx = l_n_2(x,i)\n",
        "    l_exp = math.log(x)\n",
        "    l_error = abs(l_approx - l_exp)\n",
        "    if l_error < 1:\n",
        "        break\n",
        "        \n",
        "print(f'{i} terms: Taylor Series approx= {l_approx}, exp calc= {l_exp}, error = {l_error}')"
      ],
      "execution_count": 41,
      "outputs": [
        {
          "output_type": "stream",
          "text": [
            "1 terms: Taylor Series approx= 1.0, exp calc= 0.6931471805599453, error = 0.3068528194400547\n"
          ],
          "name": "stdout"
        }
      ]
    },
    {
      "cell_type": "markdown",
      "metadata": {
        "id": "w60qu_zaoga8"
      },
      "source": [
        "**Build a plot to compare the Taylor Series approximation to Python's log() function**"
      ]
    },
    {
      "cell_type": "code",
      "metadata": {
        "id": "vrf4srJ1ojbO",
        "outputId": "82fbe19c-4e63-4122-d03c-6b9f75d67f4f",
        "colab": {
          "base_uri": "https://localhost:8080/",
          "height": 303
        }
      },
      "source": [
        "import math\n",
        "import numpy as np\n",
        "import matplotlib.pyplot as plt\n",
        "%matplotlib inline\n",
        "\n",
        "angles = np.arange(-6,6,0.1)\n",
        "for_system = np.log(angles)\n",
        "for_taylor = [l_n_2(angle,3) for angle in angles]\n",
        "\n",
        "fig, ax = plt.subplots()\n",
        "ax.plot(angles,for_system)\n",
        "ax.plot(angles,for_taylor)\n",
        "ax.set_ylim([-2,3])\n",
        "ax.legend(['log(x) function','Taylor Series - 3 terms'])\n",
        "\n",
        "plt.show()\n"
      ],
      "execution_count": 43,
      "outputs": [
        {
          "output_type": "stream",
          "text": [
            "/usr/local/lib/python3.6/dist-packages/ipykernel_launcher.py:7: RuntimeWarning: invalid value encountered in log\n",
            "  import sys\n"
          ],
          "name": "stderr"
        },
        {
          "output_type": "display_data",
          "data": {
            "image/png": "[encoded data removed]",
            "text/plain": [
              "<Figure size 432x288 with 1 Axes>"
            ]
          },
          "metadata": {
            "tags": [],
            "needs_background": "light"
          }
        }
      ]
    },
    {
      "cell_type": "code",
      "metadata": {
        "id": "uqgmPdhqo5Gr",
        "outputId": "ce4640b8-54ba-451a-a041-f1c7330a2e2b",
        "colab": {
          "base_uri": "https://localhost:8080/",
          "height": 303
        }
      },
      "source": [
        "import math\n",
        "import numpy as np\n",
        "import matplotlib.pyplot as plt\n",
        "%matplotlib inline\n",
        "\n",
        "angles = np.arange(-6,6,0.1)\n",
        "for_system = np.log(angles)\n",
        "\n",
        "fig, ax = plt.subplots()\n",
        "ax.plot(angles,for_system)\n",
        "\n",
        "# add lines for between 1 and 6 terms in the Taylor Series\n",
        "for i in range(1,6):\n",
        "    for_taylor = [l_n_2(angle,3) for angle in angles]\n",
        "    ax.plot(angles,for_taylor)\n",
        "\n",
        "ax.set_ylim([-2,7])\n",
        "\n",
        "# set up legend\n",
        "legend_lst = ['ln(x) function']\n",
        "for i in range(1,6):\n",
        "    legend_lst.append(f'Taylor Series - {i} terms')\n",
        "ax.legend(legend_lst, loc=3)\n",
        "\n",
        "plt.show()"
      ],
      "execution_count": 49,
      "outputs": [
        {
          "output_type": "stream",
          "text": [
            "/usr/local/lib/python3.6/dist-packages/ipykernel_launcher.py:7: RuntimeWarning: invalid value encountered in log\n",
            "  import sys\n"
          ],
          "name": "stderr"
        },
        {
          "output_type": "display_data",
          "data": {
            "image/png": "[encoded data removed]",
            "text/plain": [
              "<Figure size 432x288 with 1 Axes>"
            ]
          },
          "metadata": {
            "tags": [],
            "needs_background": "light"
          }
        }
      ]
    },
    {
      "cell_type": "markdown",
      "metadata": {
        "id": "vjrDv_FLp-3D"
      },
      "source": [
        "## **Taylor Series Expansion with Python**"
      ]
    },
    {
      "cell_type": "markdown",
      "metadata": {
        "id": "xYBOABJ1uCcX"
      },
      "source": [
        "### **e^x**"
      ]
    },
    {
      "cell_type": "code",
      "metadata": {
        "id": "GKSioQigqINV"
      },
      "source": [
        "from sympy import series, Symbol\n",
        "from sympy.functions import sin, cos, exp\n",
        "from sympy.plotting import plot\n",
        "import matplotlib.pyplot as plt\n",
        "%matplotlib inline\n",
        "\n",
        "plt.rcParams['figure.figsize'] = 13,10\n",
        "plt.rcParams['lines.linewidth'] = 2"
      ],
      "execution_count": 50,
      "outputs": []
    },
    {
      "cell_type": "code",
      "metadata": {
        "id": "3LCZZA8Kuek0"
      },
      "source": [
        "# Define symbol\n",
        "x = Symbol('x')"
      ],
      "execution_count": 51,
      "outputs": []
    },
    {
      "cell_type": "code",
      "metadata": {
        "id": "zkte356vuoAw"
      },
      "source": [
        "def taylor(function, x0, n):\n",
        "    \"\"\"\n",
        "    Parameter \"function\" is our function which we want to approximate\n",
        "    \"x0\" is the point where to approximate\n",
        "    \"n\" is the order of approximation\n",
        "    \"\"\"\n",
        "    return function.series(x,x0,n).removeO()"
      ],
      "execution_count": 53,
      "outputs": []
    },
    {
      "cell_type": "code",
      "metadata": {
        "id": "Wo02CaYKvMyL",
        "outputId": "c665f1ca-ddbc-4c09-9da5-954eae7bb3b0",
        "colab": {
          "base_uri": "https://localhost:8080/"
        }
      },
      "source": [
        "print('e(x) =', taylor(exp(x), 0, 10))"
      ],
      "execution_count": 61,
      "outputs": [
        {
          "output_type": "stream",
          "text": [
            "e(x) = x**9/362880 + x**8/40320 + x**7/5040 + x**6/720 + x**5/120 + x**4/24 + x**3/6 + x**2/2 + x + 1\n"
          ],
          "name": "stdout"
        }
      ]
    },
    {
      "cell_type": "code",
      "metadata": {
        "id": "QDXSt0AVx6Na",
        "outputId": "20b7a569-9c13-41e6-cf77-02e70a673887",
        "colab": {
          "base_uri": "https://localhost:8080/"
        }
      },
      "source": [
        "print('e(1) =', taylor(exp(x), 0, 4).subs(x,1))"
      ],
      "execution_count": 69,
      "outputs": [
        {
          "output_type": "stream",
          "text": [
            "e(1) = 8/3\n"
          ],
          "name": "stdout"
        }
      ]
    },
    {
      "cell_type": "code",
      "metadata": {
        "id": "liEPK3pOvuX6",
        "outputId": "605571c1-43c0-4a8f-87ec-e81fcf8bfb32",
        "colab": {
          "base_uri": "https://localhost:8080/",
          "height": 723
        }
      },
      "source": [
        "# This will plot exponent and its Taylor approximations\n",
        "\n",
        "p = plot(exp(x),taylor(exp(x),0,1),taylor(exp(x),0,2),taylor(exp(x),0,3),\n",
        "         (x,-2,2),legend=True, show=False)\n",
        "\n",
        "p[0].line_color = 'blue'\n",
        "p[1].line_color = 'green'\n",
        "p[2].line_color = 'firebrick'\n",
        "p[3].line_color = 'black'\n",
        "p.title = 'Taylor Series Expansion for Exponent'\n",
        "p.show()"
      ],
      "execution_count": 64,
      "outputs": [
        {
          "output_type": "stream",
          "text": [
            "/usr/local/lib/python3.6/dist-packages/sympy/plotting/plot.py:890: MatplotlibDeprecationWarning: \n",
            "The set_smart_bounds function was deprecated in Matplotlib 3.2 and will be removed two minor releases later.\n",
            "  self.ax.spines['left'].set_smart_bounds(True)\n",
            "/usr/local/lib/python3.6/dist-packages/sympy/plotting/plot.py:891: MatplotlibDeprecationWarning: \n",
            "The set_smart_bounds function was deprecated in Matplotlib 3.2 and will be removed two minor releases later.\n",
            "  self.ax.spines['bottom'].set_smart_bounds(False)\n"
          ],
          "name": "stderr"
        },
        {
          "output_type": "display_data",
          "data": {
            "image/png": "[encoded data removed]",
            "text/plain": [
              "<Figure size 936x720 with 1 Axes>"
            ]
          },
          "metadata": {
            "tags": [],
            "needs_background": "light"
          }
        }
      ]
    },
    {
      "cell_type": "markdown",
      "metadata": {
        "id": "kYJi8X-jwdS2"
      },
      "source": [
        "### **sin(x)**"
      ]
    },
    {
      "cell_type": "code",
      "metadata": {
        "id": "IU0mKjq7wjXJ"
      },
      "source": [
        "from sympy import series, Symbol\n",
        "from sympy.functions import sin, cos, exp\n",
        "from sympy.plotting import plot\n",
        "import matplotlib.pyplot as plt\n",
        "%matplotlib inline\n",
        "\n",
        "plt.rcParams['figure.figsize'] = 13,10\n",
        "plt.rcParams['lines.linewidth'] = 2"
      ],
      "execution_count": 65,
      "outputs": []
    },
    {
      "cell_type": "code",
      "metadata": {
        "id": "dCl7RuhmxkU8"
      },
      "source": [
        "# Define symbol\n",
        "x = Symbol('x')"
      ],
      "execution_count": 66,
      "outputs": []
    },
    {
      "cell_type": "code",
      "metadata": {
        "id": "x-7CsNSsxnGK"
      },
      "source": [
        "def taylor(function, x0, n):\n",
        "    \"\"\"\n",
        "    Parameter \"function\" is our function which we want to approximate\n",
        "    \"x0\" is the point where to approximate\n",
        "    \"n\" is the order of approximation\n",
        "    \"\"\"\n",
        "    return function.series(x,x0,n).removeO()"
      ],
      "execution_count": 67,
      "outputs": []
    },
    {
      "cell_type": "code",
      "metadata": {
        "id": "loxoVfEZxohb",
        "outputId": "02d92fdd-7da3-4639-b65d-783f1b6465ff",
        "colab": {
          "base_uri": "https://localhost:8080/"
        }
      },
      "source": [
        "print('sin(x) =', taylor(sin(x), 0, 4))"
      ],
      "execution_count": 68,
      "outputs": [
        {
          "output_type": "stream",
          "text": [
            "sin(x) = -x**3/6 + x\n"
          ],
          "name": "stdout"
        }
      ]
    },
    {
      "cell_type": "code",
      "metadata": {
        "id": "6GZ8LuNOyYCQ",
        "outputId": "ed5a0131-4915-44d0-d22a-e7e039292055",
        "colab": {
          "base_uri": "https://localhost:8080/"
        }
      },
      "source": [
        "print('sin(1) =', taylor(sin(x), 0, 4).subs(x,1))"
      ],
      "execution_count": 70,
      "outputs": [
        {
          "output_type": "stream",
          "text": [
            "sin(1) = 5/6\n"
          ],
          "name": "stdout"
        }
      ]
    },
    {
      "cell_type": "code",
      "metadata": {
        "id": "XgkoH6XqycvO",
        "outputId": "dd6b7d4d-d49e-4927-c802-ad00333fd56d",
        "colab": {
          "base_uri": "https://localhost:8080/",
          "height": 723
        }
      },
      "source": [
        "p = plot(sin(x),taylor(sin(x),0,1),taylor(sin(x),0,3),taylor(sin(x),0,5),\n",
        "         (x,-3.5,3.5),legend=True, show=False)\n",
        "\n",
        "p[0].line_color = 'blue'\n",
        "p[1].line_color = 'green'\n",
        "p[2].line_color = 'firebrick'\n",
        "p[3].line_color = 'black'\n",
        "p.title = 'Taylor Series Expansion for Sine'\n",
        "p.show()"
      ],
      "execution_count": 71,
      "outputs": [
        {
          "output_type": "stream",
          "text": [
            "/usr/local/lib/python3.6/dist-packages/sympy/plotting/plot.py:890: MatplotlibDeprecationWarning: \n",
            "The set_smart_bounds function was deprecated in Matplotlib 3.2 and will be removed two minor releases later.\n",
            "  self.ax.spines['left'].set_smart_bounds(True)\n",
            "/usr/local/lib/python3.6/dist-packages/sympy/plotting/plot.py:891: MatplotlibDeprecationWarning: \n",
            "The set_smart_bounds function was deprecated in Matplotlib 3.2 and will be removed two minor releases later.\n",
            "  self.ax.spines['bottom'].set_smart_bounds(False)\n"
          ],
          "name": "stderr"
        },
        {
          "output_type": "display_data",
          "data": {
            "image/png": "[encoded data removed]",
            "text/plain": [
              "<Figure size 936x720 with 1 Axes>"
            ]
          },
          "metadata": {
            "tags": [],
            "needs_background": "light"
          }
        }
      ]
    },
    {
      "cell_type": "markdown",
      "metadata": {
        "id": "1AFd5MyozUtF"
      },
      "source": [
        "### **cos(x)**"
      ]
    },
    {
      "cell_type": "code",
      "metadata": {
        "id": "p-99lJNdzZ__"
      },
      "source": [
        "from sympy import series, Symbol\n",
        "from sympy.functions import sin, cos, exp\n",
        "from sympy.plotting import plot\n",
        "import matplotlib.pyplot as plt\n",
        "%matplotlib inline\n",
        "\n",
        "plt.rcParams['figure.figsize'] = 13,10\n",
        "plt.rcParams['lines.linewidth'] = 2"
      ],
      "execution_count": 72,
      "outputs": []
    },
    {
      "cell_type": "code",
      "metadata": {
        "id": "RA49u5JCRysi"
      },
      "source": [
        "# Define symbol\n",
        "x = Symbol('x')"
      ],
      "execution_count": 73,
      "outputs": []
    },
    {
      "cell_type": "code",
      "metadata": {
        "id": "iRzcGMHER48Q"
      },
      "source": [
        "def taylor(function, x0, n):\n",
        "    \"\"\"\n",
        "    Parameter \"function\" is our function which we want to approximate\n",
        "    \"x0\" is the point where to approximate\n",
        "    \"n\" is the order of approximation\n",
        "    \"\"\"\n",
        "    return function.series(x,x0,n).removeO()"
      ],
      "execution_count": 74,
      "outputs": []
    },
    {
      "cell_type": "code",
      "metadata": {
        "id": "hHl0H8yRR7oQ",
        "outputId": "0e425c68-30ac-4961-d9e5-ca13054be3ce",
        "colab": {
          "base_uri": "https://localhost:8080/"
        }
      },
      "source": [
        "print('cos(x) =', taylor(cos(x), 0, 4))"
      ],
      "execution_count": 83,
      "outputs": [
        {
          "output_type": "stream",
          "text": [
            "cos(x) = -x**2/2 + 1\n"
          ],
          "name": "stdout"
        }
      ]
    },
    {
      "cell_type": "code",
      "metadata": {
        "id": "ys2n0G0eSjKj",
        "outputId": "b2aa7f4b-193c-4ee8-e5bb-9a39333a6594",
        "colab": {
          "base_uri": "https://localhost:8080/"
        }
      },
      "source": [
        "print('cos(1) =', taylor(cos(x), 0, 4).subs(x,1))"
      ],
      "execution_count": 84,
      "outputs": [
        {
          "output_type": "stream",
          "text": [
            "cos(1) = 1/2\n"
          ],
          "name": "stdout"
        }
      ]
    },
    {
      "cell_type": "code",
      "metadata": {
        "id": "ucnp3sm9TGqw",
        "outputId": "eb0416db-4f8b-4fdc-c4ea-388f1c3e5f7c",
        "colab": {
          "base_uri": "https://localhost:8080/",
          "height": 723
        }
      },
      "source": [
        "p = plot(cos(x),taylor(cos(x),0,2),taylor(cos(x),0,4),taylor(cos(x),0,6),\n",
        "         (x,-4.5,4.5),legend=True, show=False)\n",
        "\n",
        "p[0].line_color = 'blue'\n",
        "p[1].line_color = 'green'\n",
        "p[2].line_color = 'firebrick'\n",
        "p[3].line_color = 'black'\n",
        "p.title = 'Taylor Series Expansion for Cosine'\n",
        "p.show()"
      ],
      "execution_count": 86,
      "outputs": [
        {
          "output_type": "stream",
          "text": [
            "/usr/local/lib/python3.6/dist-packages/sympy/plotting/plot.py:890: MatplotlibDeprecationWarning: \n",
            "The set_smart_bounds function was deprecated in Matplotlib 3.2 and will be removed two minor releases later.\n",
            "  self.ax.spines['left'].set_smart_bounds(True)\n",
            "/usr/local/lib/python3.6/dist-packages/sympy/plotting/plot.py:891: MatplotlibDeprecationWarning: \n",
            "The set_smart_bounds function was deprecated in Matplotlib 3.2 and will be removed two minor releases later.\n",
            "  self.ax.spines['bottom'].set_smart_bounds(False)\n"
          ],
          "name": "stderr"
        },
        {
          "output_type": "display_data",
          "data": {
            "image/png": "[encoded data removed]",
            "text/plain": [
              "<Figure size 936x720 with 1 Axes>"
            ]
          },
          "metadata": {
            "tags": [],
            "needs_background": "light"
          }
        }
      ]
    },
    {
      "cell_type": "markdown",
      "metadata": {
        "id": "xdBWIMdcTnXr"
      },
      "source": [
        "### **1/(1-x)**"
      ]
    },
    {
      "cell_type": "code",
      "metadata": {
        "id": "L0-CtiBJTvnp"
      },
      "source": [
        "from sympy import series, Symbol\n",
        "from sympy.plotting import plot\n",
        "import matplotlib.pyplot as plt\n",
        "%matplotlib inline\n",
        "\n",
        "plt.rcParams['figure.figsize'] = 13,10\n",
        "plt.rcParams['lines.linewidth'] = 2"
      ],
      "execution_count": 87,
      "outputs": []
    },
    {
      "cell_type": "code",
      "metadata": {
        "id": "KQPl-Zn8T3it"
      },
      "source": [
        "# Define symbol\n",
        "x = Symbol('x')"
      ],
      "execution_count": 88,
      "outputs": []
    },
    {
      "cell_type": "code",
      "metadata": {
        "id": "izrCFM7PT4su"
      },
      "source": [
        "def taylor(function, x0, n):\n",
        "    \"\"\"\n",
        "    Parameter \"function\" is our function which we want to approximate\n",
        "    \"x0\" is the point where to approximate\n",
        "    \"n\" is the order of approximation\n",
        "    \"\"\"\n",
        "    return function.series(x,x0,n).removeO()"
      ],
      "execution_count": 89,
      "outputs": []
    },
    {
      "cell_type": "code",
      "metadata": {
        "id": "XeRTqp8tT-Iv",
        "outputId": "9712c095-79fc-4017-e37d-a4c666955c1e",
        "colab": {
          "base_uri": "https://localhost:8080/"
        }
      },
      "source": [
        "print('1/(1-x) =', taylor(1/(1-x), 0, 4))"
      ],
      "execution_count": 90,
      "outputs": [
        {
          "output_type": "stream",
          "text": [
            "1/(1-x) = x**3 + x**2 + x + 1\n"
          ],
          "name": "stdout"
        }
      ]
    },
    {
      "cell_type": "code",
      "metadata": {
        "id": "WfGIuokZUPxY",
        "outputId": "11fec1f3-a39b-4c34-dbe8-d4ef7afc8571",
        "colab": {
          "base_uri": "https://localhost:8080/"
        }
      },
      "source": [
        "print('1/(1-x) =', taylor(1/(1-x), 0, 4).subs(x, 0.1))"
      ],
      "execution_count": 91,
      "outputs": [
        {
          "output_type": "stream",
          "text": [
            "1/(1-x) = 1.11100000000000\n"
          ],
          "name": "stdout"
        }
      ]
    },
    {
      "cell_type": "code",
      "metadata": {
        "id": "sy8yuLoJUeT_",
        "outputId": "cec80b45-84ae-4eaf-af3a-9ca8995c77c6",
        "colab": {
          "base_uri": "https://localhost:8080/",
          "height": 723
        }
      },
      "source": [
        "p = plot(1/(1-x),taylor(1/(1-x),0,2),taylor(1/(1-x),0,3),taylor(1/(1-x),0,5),\n",
        "         (x,-3.5,3.5),legend=True, show=False)\n",
        "\n",
        "p[0].line_color = 'blue'\n",
        "p[1].line_color = 'green'\n",
        "p[2].line_color = 'firebrick'\n",
        "p[3].line_color = 'black'\n",
        "p.title = 'Taylor Series Expansion for 1/(1-x)'\n",
        "p.show()"
      ],
      "execution_count": 114,
      "outputs": [
        {
          "output_type": "stream",
          "text": [
            "/usr/local/lib/python3.6/dist-packages/sympy/plotting/plot.py:890: MatplotlibDeprecationWarning: \n",
            "The set_smart_bounds function was deprecated in Matplotlib 3.2 and will be removed two minor releases later.\n",
            "  self.ax.spines['left'].set_smart_bounds(True)\n",
            "/usr/local/lib/python3.6/dist-packages/sympy/plotting/plot.py:891: MatplotlibDeprecationWarning: \n",
            "The set_smart_bounds function was deprecated in Matplotlib 3.2 and will be removed two minor releases later.\n",
            "  self.ax.spines['bottom'].set_smart_bounds(False)\n"
          ],
          "name": "stderr"
        },
        {
          "output_type": "display_data",
          "data": {
            "image/png": "[encoded data removed]",
            "text/plain": [
              "<Figure size 936x720 with 1 Axes>"
            ]
          },
          "metadata": {
            "tags": [],
            "needs_background": "light"
          }
        }
      ]
    },
    {
      "cell_type": "markdown",
      "metadata": {
        "id": "WJ6kCKreU2IN"
      },
      "source": [
        "### **ln(x+1)**"
      ]
    },
    {
      "cell_type": "code",
      "metadata": {
        "id": "ysyaVx7JU8C4"
      },
      "source": [
        "from sympy import series, Symbol\n",
        "from sympy.functions import log\n",
        "from sympy.plotting import plot\n",
        "import matplotlib.pyplot as plt\n",
        "%matplotlib inline\n",
        "\n",
        "plt.rcParams['figure.figsize'] = 13,10\n",
        "plt.rcParams['lines.linewidth'] = 2"
      ],
      "execution_count": 93,
      "outputs": []
    },
    {
      "cell_type": "code",
      "metadata": {
        "id": "VvSEWGt6VvdC"
      },
      "source": [
        "# Define symbol\n",
        "x = Symbol('x')"
      ],
      "execution_count": 94,
      "outputs": []
    },
    {
      "cell_type": "code",
      "metadata": {
        "id": "qFkkFWiCVwsN"
      },
      "source": [
        "def taylor(function, x0, n):\n",
        "    \"\"\"\n",
        "    Parameter \"function\" is our function which we want to approximate\n",
        "    \"x0\" is the point where to approximate\n",
        "    \"n\" is the order of approximation\n",
        "    \"\"\"\n",
        "    return function.series(x,x0,n).removeO()"
      ],
      "execution_count": 95,
      "outputs": []
    },
    {
      "cell_type": "code",
      "metadata": {
        "id": "IQvcBoZMV02U",
        "outputId": "b771411b-0cdf-43ab-e943-df7d8e82fa55",
        "colab": {
          "base_uri": "https://localhost:8080/"
        }
      },
      "source": [
        "print('ln(x+1) =', taylor(log(x+1), 0, 4))"
      ],
      "execution_count": 96,
      "outputs": [
        {
          "output_type": "stream",
          "text": [
            "ln(x+1) = x**3/3 - x**2/2 + x\n"
          ],
          "name": "stdout"
        }
      ]
    },
    {
      "cell_type": "code",
      "metadata": {
        "id": "3_BfcujyWBse",
        "outputId": "dc3950c2-3b2c-4f60-c91c-bef968193b28",
        "colab": {
          "base_uri": "https://localhost:8080/"
        }
      },
      "source": [
        "print('ln(x+1) =', taylor(log(x+1), 0, 4).subs(x,1))"
      ],
      "execution_count": 97,
      "outputs": [
        {
          "output_type": "stream",
          "text": [
            "ln(x+1) = 5/6\n"
          ],
          "name": "stdout"
        }
      ]
    },
    {
      "cell_type": "code",
      "metadata": {
        "id": "Gukpx1mIWMf_",
        "outputId": "8199c45c-e269-4d83-8eb2-a1911d6e50b5",
        "colab": {
          "base_uri": "https://localhost:8080/",
          "height": 723
        }
      },
      "source": [
        "p = plot(log(x+1),taylor(log(x+1),0,1),taylor(log(x+1),0,3),taylor(log(x+1),0,5),\n",
        "         (x,-3.5,3.5),legend=True, show=False)\n",
        "\n",
        "p[0].line_color = 'blue'\n",
        "p[1].line_color = 'green'\n",
        "p[2].line_color = 'firebrick'\n",
        "p[3].line_color = 'black'\n",
        "p.title = 'Taylor Series Expansion for ln(x+1)'\n",
        "p.show()"
      ],
      "execution_count": 113,
      "outputs": [
        {
          "output_type": "stream",
          "text": [
            "/usr/local/lib/python3.6/dist-packages/sympy/plotting/plot.py:890: MatplotlibDeprecationWarning: \n",
            "The set_smart_bounds function was deprecated in Matplotlib 3.2 and will be removed two minor releases later.\n",
            "  self.ax.spines['left'].set_smart_bounds(True)\n",
            "/usr/local/lib/python3.6/dist-packages/sympy/plotting/plot.py:891: MatplotlibDeprecationWarning: \n",
            "The set_smart_bounds function was deprecated in Matplotlib 3.2 and will be removed two minor releases later.\n",
            "  self.ax.spines['bottom'].set_smart_bounds(False)\n"
          ],
          "name": "stderr"
        },
        {
          "output_type": "display_data",
          "data": {
            "image/png": "[encoded data removed]",
            "text/plain": [
              "<Figure size 936x720 with 1 Axes>"
            ]
          },
          "metadata": {
            "tags": [],
            "needs_background": "light"
          }
        }
      ]
    },
    {
      "cell_type": "markdown",
      "metadata": {
        "id": "Vu9C4FCWWr7c"
      },
      "source": [
        "### **ln(x)**"
      ]
    },
    {
      "cell_type": "code",
      "metadata": {
        "id": "oqm-r2kLW0OB"
      },
      "source": [
        "from sympy import series, Symbol\n",
        "from sympy.functions import log\n",
        "from sympy.plotting import plot\n",
        "import matplotlib.pyplot as plt\n",
        "%matplotlib inline\n",
        "\n",
        "plt.rcParams['figure.figsize'] = 13,10\n",
        "plt.rcParams['lines.linewidth'] = 2"
      ],
      "execution_count": 99,
      "outputs": []
    },
    {
      "cell_type": "code",
      "metadata": {
        "id": "gEEDXBcEXGE1"
      },
      "source": [
        "# Define symbol\n",
        "x = Symbol('x')"
      ],
      "execution_count": 100,
      "outputs": []
    },
    {
      "cell_type": "code",
      "metadata": {
        "id": "i5oXRnmnXIJ_"
      },
      "source": [
        "def taylor(function, x0, n):\n",
        "    \"\"\"\n",
        "    Parameter \"function\" is our function which we want to approximate\n",
        "    \"x0\" is the point where to approximate\n",
        "    \"n\" is the order of approximation\n",
        "    \"\"\"\n",
        "    return function.series(x,x0,n).removeO()"
      ],
      "execution_count": 105,
      "outputs": []
    },
    {
      "cell_type": "code",
      "metadata": {
        "id": "oRZfAim_XLTf",
        "outputId": "a0882869-bfd6-4be9-dc66-8a4c33ec0dd8",
        "colab": {
          "base_uri": "https://localhost:8080/"
        }
      },
      "source": [
        "print('ln(x) =', taylor(log(x), 1,4))"
      ],
      "execution_count": 108,
      "outputs": [
        {
          "output_type": "stream",
          "text": [
            "ln(x) = x + (x - 1)**3/3 - (x - 1)**2/2 - 1\n"
          ],
          "name": "stdout"
        }
      ]
    },
    {
      "cell_type": "code",
      "metadata": {
        "id": "SNCWSVK7ZGcH",
        "outputId": "61ce5e21-5f30-46bb-8979-ccb7060029d1",
        "colab": {
          "base_uri": "https://localhost:8080/"
        }
      },
      "source": [
        "print('ln(x) =', taylor(log(x), 1,4).subs(x,2))"
      ],
      "execution_count": 110,
      "outputs": [
        {
          "output_type": "stream",
          "text": [
            "ln(x) = 5/6\n"
          ],
          "name": "stdout"
        }
      ]
    },
    {
      "cell_type": "code",
      "metadata": {
        "id": "XkRxyV1QZYJ9",
        "outputId": "db188232-2994-4dad-eff1-37e1f117799d",
        "colab": {
          "base_uri": "https://localhost:8080/",
          "height": 723
        }
      },
      "source": [
        "p = plot(log(x),taylor(log(x),1,1),taylor(log(x),1,3),taylor(log(x),1,5),\n",
        "         (x,-3.5,3.5),legend=True, show=False)\n",
        "\n",
        "p[0].line_color = 'blue'\n",
        "p[1].line_color = 'green'\n",
        "p[2].line_color = 'firebrick'\n",
        "p[3].line_color = 'black'\n",
        "p.title = 'Taylor Series Expansion for ln(x)'\n",
        "p.show()"
      ],
      "execution_count": 112,
      "outputs": [
        {
          "output_type": "stream",
          "text": [
            "/usr/local/lib/python3.6/dist-packages/sympy/plotting/plot.py:890: MatplotlibDeprecationWarning: \n",
            "The set_smart_bounds function was deprecated in Matplotlib 3.2 and will be removed two minor releases later.\n",
            "  self.ax.spines['left'].set_smart_bounds(True)\n",
            "/usr/local/lib/python3.6/dist-packages/sympy/plotting/plot.py:891: MatplotlibDeprecationWarning: \n",
            "The set_smart_bounds function was deprecated in Matplotlib 3.2 and will be removed two minor releases later.\n",
            "  self.ax.spines['bottom'].set_smart_bounds(False)\n"
          ],
          "name": "stderr"
        },
        {
          "output_type": "display_data",
          "data": {
            "image/png": "[encoded data removed]",
            "text/plain": [
              "<Figure size 936x720 with 1 Axes>"
            ]
          },
          "metadata": {
            "tags": [],
            "needs_background": "light"
          }
        }
      ]
    }
  ]
}